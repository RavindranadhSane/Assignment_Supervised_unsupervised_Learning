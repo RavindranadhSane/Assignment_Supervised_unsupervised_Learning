{
  "nbformat": 4,
  "nbformat_minor": 0,
  "metadata": {
    "colab": {
      "provenance": []
    },
    "kernelspec": {
      "name": "python3",
      "display_name": "Python 3"
    },
    "language_info": {
      "name": "python"
    }
  },
  "cells": [
    {
      "cell_type": "markdown",
      "source": [
        "# Credit Card Fraud Detection\n",
        "\n",
        "## Project Overview\n",
        "This project focuses on building a machine learning model to detect fraudulent transactions using the Kaggle Credit Card Fraud Detection dataset. Due to the highly imbalanced nature of the dataset, where fraudulent transactions are rare, special techniques such as SMOTE (Synthetic Minority Oversampling Technique) and threshold adjustments were used to improve the model's performance.\n",
        "\n",
        "---\n",
        "\n",
        "## Dataset Description\n",
        "The dataset contains transactions made by European cardholders in September 2013. The dataset includes:\n",
        "\n",
        "- **Features:** `V1` through `V28`, which are PCA-transformed numerical features, along with `Time` and `Amount`.\n",
        "- **Target Variable:** `Class` (0 = Non-Fraudulent, 1 = Fraudulent).\n",
        "\n",
        "### Summary:\n",
        "- **Number of Rows:** 284,807\n",
        "- **Number of Columns:** 31\n",
        "- **Imbalance:** Only 492 fraudulent transactions (~0.17% of the total dataset).\n",
        "\n",
        "---\n",
        "\n",
        "## Key Steps\n",
        "### 1. Data Exploration and Preprocessing\n",
        "- **Explored Class Distribution:** Identified the severe class imbalance.\n",
        "- **Normalized Features:** The `Amount` column was scaled using `StandardScaler`.\n",
        "- **Handled Class Imbalance:** Applied SMOTE to oversample the minority class in the training set.\n",
        "\n",
        "### 2. Model Development\n",
        "- **Baseline Model:** Logistic Regression was used as a baseline to assess the model's ability to detect fraud.\n",
        "- **Advanced Model:** XGBoost, a gradient boosting algorithm, was trained to achieve better performance.\n",
        "\n",
        "### 3. Evaluation\n",
        "- Evaluated models using metrics like **Precision**, **Recall**, **F1-Score**, and **ROC-AUC**.\n",
        "- Adjusted the classification threshold to improve precision for fraud detection.\n",
        "\n",
        "---\n",
        "\n",
        "## Results\n",
        "### Model Performance (Threshold = 0.7):\n",
        "- **Class 0 (Non-Fraudulent Transactions):**\n",
        "  - Precision: 1.00\n",
        "  - Recall: 0.99\n",
        "  - F1-Score: 1.00\n",
        "- **Class 1 (Fraudulent Transactions):**\n",
        "  - Precision: 0.17\n",
        "  - Recall: 0.90\n",
        "  - F1-Score: 0.29\n",
        "- **Overall Accuracy:** 99%\n",
        "\n",
        "### Key Visualizations:\n",
        "1. **ROC Curve:** Achieved an AUC of 0.99, demonstrating excellent model performance.\n",
        "2. **Precision-Recall Curve:** Showed the trade-off between precision and recall, with the threshold of 0.7 providing the best balance.\n",
        "\n",
        "---\n",
        "\n",
        "## Libraries Used\n",
        "- **Data Manipulation:** pandas, numpy\n",
        "- **Visualization:** matplotlib, seaborn\n",
        "- **Machine Learning:** scikit-learn, XGBoost, imbalanced-learn\n",
        "\n",
        "---\n",
        "\n",
        "## How to Run the Notebook\n",
        "### Prerequisites:\n",
        "- Python 3.7+\n",
        "- Install the required libraries:\n",
        "  ```bash\n",
        "  pip install pandas numpy matplotlib seaborn scikit-learn xgboost imbalanced-learn\n",
        "  ```\n",
        "\n",
        "### Steps:\n",
        "1. Clone the repository or download the notebook.\n",
        "2. Load the dataset (`creditcard.csv`) in the specified location.\n",
        "3. Run the cells in sequence to reproduce the results.\n",
        "\n",
        "---\n",
        "\n",
        "## Future Improvements\n",
        "1. Implement other anomaly detection techniques, such as Isolation Forest or Autoencoders, for comparison.\n",
        "2. Perform hyperparameter tuning for further optimization.\n",
        "3. Explore real-time fraud detection deployment using FastAPI or Flask.\n"
      ],
      "metadata": {
        "id": "2N1xahrviLWi"
      }
    },
    {
      "cell_type": "code",
      "execution_count": 1,
      "metadata": {
        "colab": {
          "base_uri": "https://localhost:8080/"
        },
        "id": "6ALwDexvYxre",
        "outputId": "77614cca-546d-476d-e99d-442778bc43b4"
      },
      "outputs": [
        {
          "output_type": "stream",
          "name": "stdout",
          "text": [
            "Requirement already satisfied: imbalanced-learn in /usr/local/lib/python3.10/dist-packages (0.12.4)\n",
            "Requirement already satisfied: scikit-learn in /usr/local/lib/python3.10/dist-packages (1.6.0)\n",
            "Requirement already satisfied: numpy>=1.17.3 in /usr/local/lib/python3.10/dist-packages (from imbalanced-learn) (1.26.4)\n",
            "Requirement already satisfied: scipy>=1.5.0 in /usr/local/lib/python3.10/dist-packages (from imbalanced-learn) (1.13.1)\n",
            "Requirement already satisfied: joblib>=1.1.1 in /usr/local/lib/python3.10/dist-packages (from imbalanced-learn) (1.4.2)\n",
            "Requirement already satisfied: threadpoolctl>=2.0.0 in /usr/local/lib/python3.10/dist-packages (from imbalanced-learn) (3.5.0)\n"
          ]
        }
      ],
      "source": [
        "!pip install imbalanced-learn scikit-learn\n"
      ]
    },
    {
      "cell_type": "code",
      "source": [
        "import pandas as pd\n",
        "import numpy as np\n",
        "import matplotlib\n",
        "import seaborn as sns\n",
        "import sklearn\n",
        "import imblearn\n",
        "\n",
        "print(\"Pandas version:\", pd.__version__)\n",
        "print(\"Numpy version:\", np.__version__)\n",
        "print(\"Matplotlib version:\", matplotlib.__version__)\n",
        "print(\"Seaborn version:\", sns.__version__)\n",
        "print(\"Scikit-learn version:\", sklearn.__version__)\n",
        "print(\"Imbalanced-learn version:\", imblearn.__version__)\n"
      ],
      "metadata": {
        "colab": {
          "base_uri": "https://localhost:8080/"
        },
        "id": "bM2ZlqrCZFk7",
        "outputId": "ee71364a-01c4-4fd9-a774-2e658e771a2c"
      },
      "execution_count": 2,
      "outputs": [
        {
          "output_type": "stream",
          "name": "stdout",
          "text": [
            "Pandas version: 2.2.2\n",
            "Numpy version: 1.26.4\n",
            "Matplotlib version: 3.8.0\n",
            "Seaborn version: 0.13.2\n",
            "Scikit-learn version: 1.6.0\n",
            "Imbalanced-learn version: 0.12.4\n"
          ]
        }
      ]
    },
    {
      "cell_type": "code",
      "source": [
        "import pandas as pd\n",
        "import numpy as np\n",
        "import matplotlib.pyplot as plt\n",
        "import seaborn as sns\n",
        "from sklearn.preprocessing import StandardScaler\n",
        "from imblearn.over_sampling import SMOTE\n",
        "\n",
        "# Load the dataset\n",
        "df = pd.read_csv('/content/sample_data/creditcard.csv')\n",
        "\n",
        "# View the first few rows\n",
        "print(df.head())\n"
      ],
      "metadata": {
        "colab": {
          "base_uri": "https://localhost:8080/"
        },
        "id": "OTzbKYE_ZIsH",
        "outputId": "36063a3e-d508-4990-b3a8-0abd5fc78f75"
      },
      "execution_count": 3,
      "outputs": [
        {
          "output_type": "stream",
          "name": "stdout",
          "text": [
            "   Time        V1        V2        V3        V4        V5        V6        V7  \\\n",
            "0   0.0 -1.359807 -0.072781  2.536347  1.378155 -0.338321  0.462388  0.239599   \n",
            "1   0.0  1.191857  0.266151  0.166480  0.448154  0.060018 -0.082361 -0.078803   \n",
            "2   1.0 -1.358354 -1.340163  1.773209  0.379780 -0.503198  1.800499  0.791461   \n",
            "3   1.0 -0.966272 -0.185226  1.792993 -0.863291 -0.010309  1.247203  0.237609   \n",
            "4   2.0 -1.158233  0.877737  1.548718  0.403034 -0.407193  0.095921  0.592941   \n",
            "\n",
            "         V8        V9  ...       V21       V22       V23       V24       V25  \\\n",
            "0  0.098698  0.363787  ... -0.018307  0.277838 -0.110474  0.066928  0.128539   \n",
            "1  0.085102 -0.255425  ... -0.225775 -0.638672  0.101288 -0.339846  0.167170   \n",
            "2  0.247676 -1.514654  ...  0.247998  0.771679  0.909412 -0.689281 -0.327642   \n",
            "3  0.377436 -1.387024  ... -0.108300  0.005274 -0.190321 -1.175575  0.647376   \n",
            "4 -0.270533  0.817739  ... -0.009431  0.798278 -0.137458  0.141267 -0.206010   \n",
            "\n",
            "        V26       V27       V28  Amount  Class  \n",
            "0 -0.189115  0.133558 -0.021053  149.62      0  \n",
            "1  0.125895 -0.008983  0.014724    2.69      0  \n",
            "2 -0.139097 -0.055353 -0.059752  378.66      0  \n",
            "3 -0.221929  0.062723  0.061458  123.50      0  \n",
            "4  0.502292  0.219422  0.215153   69.99      0  \n",
            "\n",
            "[5 rows x 31 columns]\n"
          ]
        }
      ]
    },
    {
      "cell_type": "code",
      "source": [
        "# Dataset info\n",
        "print(df.info())\n",
        "\n",
        "# Summary statistics\n",
        "print(df.describe())\n",
        "\n",
        "# Shape of the dataset\n",
        "print(f\"Dataset contains {df.shape[0]} rows and {df.shape[1]} columns.\")\n"
      ],
      "metadata": {
        "colab": {
          "base_uri": "https://localhost:8080/"
        },
        "id": "HJV3gSVyZTMm",
        "outputId": "d11ab5a7-08b1-4209-f7af-70dd05c0bf42"
      },
      "execution_count": 4,
      "outputs": [
        {
          "output_type": "stream",
          "name": "stdout",
          "text": [
            "<class 'pandas.core.frame.DataFrame'>\n",
            "RangeIndex: 284807 entries, 0 to 284806\n",
            "Data columns (total 31 columns):\n",
            " #   Column  Non-Null Count   Dtype  \n",
            "---  ------  --------------   -----  \n",
            " 0   Time    284807 non-null  float64\n",
            " 1   V1      284807 non-null  float64\n",
            " 2   V2      284807 non-null  float64\n",
            " 3   V3      284807 non-null  float64\n",
            " 4   V4      284807 non-null  float64\n",
            " 5   V5      284807 non-null  float64\n",
            " 6   V6      284807 non-null  float64\n",
            " 7   V7      284807 non-null  float64\n",
            " 8   V8      284807 non-null  float64\n",
            " 9   V9      284807 non-null  float64\n",
            " 10  V10     284807 non-null  float64\n",
            " 11  V11     284807 non-null  float64\n",
            " 12  V12     284807 non-null  float64\n",
            " 13  V13     284807 non-null  float64\n",
            " 14  V14     284807 non-null  float64\n",
            " 15  V15     284807 non-null  float64\n",
            " 16  V16     284807 non-null  float64\n",
            " 17  V17     284807 non-null  float64\n",
            " 18  V18     284807 non-null  float64\n",
            " 19  V19     284807 non-null  float64\n",
            " 20  V20     284807 non-null  float64\n",
            " 21  V21     284807 non-null  float64\n",
            " 22  V22     284807 non-null  float64\n",
            " 23  V23     284807 non-null  float64\n",
            " 24  V24     284807 non-null  float64\n",
            " 25  V25     284807 non-null  float64\n",
            " 26  V26     284807 non-null  float64\n",
            " 27  V27     284807 non-null  float64\n",
            " 28  V28     284807 non-null  float64\n",
            " 29  Amount  284807 non-null  float64\n",
            " 30  Class   284807 non-null  int64  \n",
            "dtypes: float64(30), int64(1)\n",
            "memory usage: 67.4 MB\n",
            "None\n",
            "                Time            V1            V2            V3            V4  \\\n",
            "count  284807.000000  2.848070e+05  2.848070e+05  2.848070e+05  2.848070e+05   \n",
            "mean    94813.859575  1.168375e-15  3.416908e-16 -1.379537e-15  2.074095e-15   \n",
            "std     47488.145955  1.958696e+00  1.651309e+00  1.516255e+00  1.415869e+00   \n",
            "min         0.000000 -5.640751e+01 -7.271573e+01 -4.832559e+01 -5.683171e+00   \n",
            "25%     54201.500000 -9.203734e-01 -5.985499e-01 -8.903648e-01 -8.486401e-01   \n",
            "50%     84692.000000  1.810880e-02  6.548556e-02  1.798463e-01 -1.984653e-02   \n",
            "75%    139320.500000  1.315642e+00  8.037239e-01  1.027196e+00  7.433413e-01   \n",
            "max    172792.000000  2.454930e+00  2.205773e+01  9.382558e+00  1.687534e+01   \n",
            "\n",
            "                 V5            V6            V7            V8            V9  \\\n",
            "count  2.848070e+05  2.848070e+05  2.848070e+05  2.848070e+05  2.848070e+05   \n",
            "mean   9.604066e-16  1.487313e-15 -5.556467e-16  1.213481e-16 -2.406331e-15   \n",
            "std    1.380247e+00  1.332271e+00  1.237094e+00  1.194353e+00  1.098632e+00   \n",
            "min   -1.137433e+02 -2.616051e+01 -4.355724e+01 -7.321672e+01 -1.343407e+01   \n",
            "25%   -6.915971e-01 -7.682956e-01 -5.540759e-01 -2.086297e-01 -6.430976e-01   \n",
            "50%   -5.433583e-02 -2.741871e-01  4.010308e-02  2.235804e-02 -5.142873e-02   \n",
            "75%    6.119264e-01  3.985649e-01  5.704361e-01  3.273459e-01  5.971390e-01   \n",
            "max    3.480167e+01  7.330163e+01  1.205895e+02  2.000721e+01  1.559499e+01   \n",
            "\n",
            "       ...           V21           V22           V23           V24  \\\n",
            "count  ...  2.848070e+05  2.848070e+05  2.848070e+05  2.848070e+05   \n",
            "mean   ...  1.654067e-16 -3.568593e-16  2.578648e-16  4.473266e-15   \n",
            "std    ...  7.345240e-01  7.257016e-01  6.244603e-01  6.056471e-01   \n",
            "min    ... -3.483038e+01 -1.093314e+01 -4.480774e+01 -2.836627e+00   \n",
            "25%    ... -2.283949e-01 -5.423504e-01 -1.618463e-01 -3.545861e-01   \n",
            "50%    ... -2.945017e-02  6.781943e-03 -1.119293e-02  4.097606e-02   \n",
            "75%    ...  1.863772e-01  5.285536e-01  1.476421e-01  4.395266e-01   \n",
            "max    ...  2.720284e+01  1.050309e+01  2.252841e+01  4.584549e+00   \n",
            "\n",
            "                V25           V26           V27           V28         Amount  \\\n",
            "count  2.848070e+05  2.848070e+05  2.848070e+05  2.848070e+05  284807.000000   \n",
            "mean   5.340915e-16  1.683437e-15 -3.660091e-16 -1.227390e-16      88.349619   \n",
            "std    5.212781e-01  4.822270e-01  4.036325e-01  3.300833e-01     250.120109   \n",
            "min   -1.029540e+01 -2.604551e+00 -2.256568e+01 -1.543008e+01       0.000000   \n",
            "25%   -3.171451e-01 -3.269839e-01 -7.083953e-02 -5.295979e-02       5.600000   \n",
            "50%    1.659350e-02 -5.213911e-02  1.342146e-03  1.124383e-02      22.000000   \n",
            "75%    3.507156e-01  2.409522e-01  9.104512e-02  7.827995e-02      77.165000   \n",
            "max    7.519589e+00  3.517346e+00  3.161220e+01  3.384781e+01   25691.160000   \n",
            "\n",
            "               Class  \n",
            "count  284807.000000  \n",
            "mean        0.001727  \n",
            "std         0.041527  \n",
            "min         0.000000  \n",
            "25%         0.000000  \n",
            "50%         0.000000  \n",
            "75%         0.000000  \n",
            "max         1.000000  \n",
            "\n",
            "[8 rows x 31 columns]\n",
            "Dataset contains 284807 rows and 31 columns.\n"
          ]
        }
      ]
    },
    {
      "cell_type": "code",
      "source": [
        "# Check for missing values\n",
        "missing_values = df.isnull().sum()\n",
        "print(\"Missing values in each column:\\n\", missing_values)\n",
        "\n",
        "# If no missing values, you can skip imputation\n"
      ],
      "metadata": {
        "colab": {
          "base_uri": "https://localhost:8080/"
        },
        "id": "Pi4kz3cDZYRs",
        "outputId": "62bc8545-5323-42f2-c4d2-1807bb0fb7f7"
      },
      "execution_count": 5,
      "outputs": [
        {
          "output_type": "stream",
          "name": "stdout",
          "text": [
            "Missing values in each column:\n",
            " Time      0\n",
            "V1        0\n",
            "V2        0\n",
            "V3        0\n",
            "V4        0\n",
            "V5        0\n",
            "V6        0\n",
            "V7        0\n",
            "V8        0\n",
            "V9        0\n",
            "V10       0\n",
            "V11       0\n",
            "V12       0\n",
            "V13       0\n",
            "V14       0\n",
            "V15       0\n",
            "V16       0\n",
            "V17       0\n",
            "V18       0\n",
            "V19       0\n",
            "V20       0\n",
            "V21       0\n",
            "V22       0\n",
            "V23       0\n",
            "V24       0\n",
            "V25       0\n",
            "V26       0\n",
            "V27       0\n",
            "V28       0\n",
            "Amount    0\n",
            "Class     0\n",
            "dtype: int64\n"
          ]
        }
      ]
    },
    {
      "cell_type": "code",
      "source": [
        "# Check class distribution\n",
        "class_counts = df['Class'].value_counts()\n",
        "print(\"Class Distribution:\\n\", class_counts)\n",
        "\n",
        "# Visualize the class distribution\n",
        "plt.figure(figsize=(6, 4))\n",
        "sns.barplot(x=class_counts.index, y=class_counts.values)\n",
        "plt.title(\"Class Distribution\")\n",
        "plt.xlabel(\"Class (0 = Non-Fraud, 1 = Fraud)\")\n",
        "plt.ylabel(\"Number of Transactions\")\n",
        "plt.show()\n"
      ],
      "metadata": {
        "colab": {
          "base_uri": "https://localhost:8080/",
          "height": 497
        },
        "id": "BHafL34zZa-u",
        "outputId": "f015c651-18ba-4074-9b63-01eac23cf5f0"
      },
      "execution_count": 6,
      "outputs": [
        {
          "output_type": "stream",
          "name": "stdout",
          "text": [
            "Class Distribution:\n",
            " Class\n",
            "0    284315\n",
            "1       492\n",
            "Name: count, dtype: int64\n"
          ]
        },
        {
          "output_type": "display_data",
          "data": {
            "text/plain": [
              "<Figure size 600x400 with 1 Axes>"
            ],
            "image/png": "[encoded data removed]"
          },
          "metadata": {}
        }
      ]
    },
    {
      "cell_type": "code",
      "source": [
        "from sklearn.preprocessing import StandardScaler\n",
        "\n",
        "# Create a scaler object\n",
        "scaler = StandardScaler()\n",
        "\n",
        "# Normalize the Amount column\n",
        "df['Amount'] = scaler.fit_transform(df['Amount'].values.reshape(-1, 1))\n",
        "\n",
        "# Confirm normalization\n",
        "print(df['Amount'].head())\n"
      ],
      "metadata": {
        "colab": {
          "base_uri": "https://localhost:8080/"
        },
        "id": "Wakq2S6QaL34",
        "outputId": "720cc3b6-3be0-4649-adb4-8514c8c802d3"
      },
      "execution_count": 7,
      "outputs": [
        {
          "output_type": "stream",
          "name": "stdout",
          "text": [
            "0    0.244964\n",
            "1   -0.342475\n",
            "2    1.160686\n",
            "3    0.140534\n",
            "4   -0.073403\n",
            "Name: Amount, dtype: float64\n"
          ]
        }
      ]
    },
    {
      "cell_type": "code",
      "source": [
        "from sklearn.model_selection import train_test_split\n",
        "\n",
        "# Separate features and target\n",
        "X = df.drop(columns=['Class'])\n",
        "y = df['Class']\n",
        "\n",
        "# Split the data\n",
        "X_train, X_test, y_train, y_test = train_test_split(\n",
        "    X, y, test_size=0.2, stratify=y, random_state=42\n",
        ")\n",
        "\n",
        "print(\"Training set class distribution:\\n\", y_train.value_counts())\n",
        "print(\"Testing set class distribution:\\n\", y_test.value_counts())\n"
      ],
      "metadata": {
        "colab": {
          "base_uri": "https://localhost:8080/"
        },
        "id": "zq2qjDJAaOzS",
        "outputId": "51998572-42e1-408b-b0d6-262713ed7f29"
      },
      "execution_count": 8,
      "outputs": [
        {
          "output_type": "stream",
          "name": "stdout",
          "text": [
            "Training set class distribution:\n",
            " Class\n",
            "0    227451\n",
            "1       394\n",
            "Name: count, dtype: int64\n",
            "Testing set class distribution:\n",
            " Class\n",
            "0    56864\n",
            "1       98\n",
            "Name: count, dtype: int64\n"
          ]
        }
      ]
    },
    {
      "cell_type": "code",
      "source": [
        "from imblearn.over_sampling import SMOTE\n",
        "\n",
        "# Apply SMOTE\n",
        "smote = SMOTE(random_state=42)\n",
        "X_train_smote, y_train_smote = smote.fit_resample(X_train, y_train)\n",
        "\n",
        "# Check new class distribution\n",
        "print(\"Class distribution after SMOTE:\\n\", y_train_smote.value_counts())\n"
      ],
      "metadata": {
        "colab": {
          "base_uri": "https://localhost:8080/"
        },
        "id": "G3xW1N-caSFq",
        "outputId": "53b62dd7-54fe-4baf-c8ad-305a7b9074b7"
      },
      "execution_count": 9,
      "outputs": [
        {
          "output_type": "stream",
          "name": "stderr",
          "text": [
            "/usr/local/lib/python3.10/dist-packages/sklearn/base.py:474: FutureWarning: `BaseEstimator._validate_data` is deprecated in 1.6 and will be removed in 1.7. Use `sklearn.utils.validation.validate_data` instead. This function becomes public and is part of the scikit-learn developer API.\n",
            "  warnings.warn(\n",
            "/usr/local/lib/python3.10/dist-packages/sklearn/utils/_tags.py:354: FutureWarning: The SMOTE or classes from which it inherits use `_get_tags` and `_more_tags`. Please define the `__sklearn_tags__` method, or inherit from `sklearn.base.BaseEstimator` and/or other appropriate mixins such as `sklearn.base.TransformerMixin`, `sklearn.base.ClassifierMixin`, `sklearn.base.RegressorMixin`, and `sklearn.base.OutlierMixin`. From scikit-learn 1.7, not defining `__sklearn_tags__` will raise an error.\n",
            "  warnings.warn(\n"
          ]
        },
        {
          "output_type": "stream",
          "name": "stdout",
          "text": [
            "Class distribution after SMOTE:\n",
            " Class\n",
            "0    227451\n",
            "1    227451\n",
            "Name: count, dtype: int64\n"
          ]
        }
      ]
    },
    {
      "cell_type": "code",
      "source": [
        "from sklearn.linear_model import LogisticRegression\n",
        "from sklearn.metrics import classification_report, confusion_matrix\n",
        "\n",
        "# Train Logistic Regression\n",
        "lr = LogisticRegression(random_state=42,max_iter=1000)\n",
        "lr.fit(X_train_smote, y_train_smote)\n",
        "\n",
        "# Predict on the test set\n",
        "y_pred = lr.predict(X_test)\n",
        "\n",
        "# Evaluate performance\n",
        "print(\"Classification Report:\\n\", classification_report(y_test, y_pred))\n",
        "print(\"Confusion Matrix:\\n\", confusion_matrix(y_test, y_pred))\n"
      ],
      "metadata": {
        "colab": {
          "base_uri": "https://localhost:8080/"
        },
        "id": "Jotkr97raW0d",
        "outputId": "3ae09fc9-036c-4b56-e3d9-abe02f39adbd"
      },
      "execution_count": 10,
      "outputs": [
        {
          "output_type": "stream",
          "name": "stdout",
          "text": [
            "Classification Report:\n",
            "               precision    recall  f1-score   support\n",
            "\n",
            "           0       1.00      0.99      0.99     56864\n",
            "           1       0.12      0.91      0.21        98\n",
            "\n",
            "    accuracy                           0.99     56962\n",
            "   macro avg       0.56      0.95      0.60     56962\n",
            "weighted avg       1.00      0.99      0.99     56962\n",
            "\n",
            "Confusion Matrix:\n",
            " [[56215   649]\n",
            " [    9    89]]\n"
          ]
        },
        {
          "output_type": "stream",
          "name": "stderr",
          "text": [
            "/usr/local/lib/python3.10/dist-packages/sklearn/linear_model/_logistic.py:465: ConvergenceWarning: lbfgs failed to converge (status=1):\n",
            "STOP: TOTAL NO. of ITERATIONS REACHED LIMIT.\n",
            "\n",
            "Increase the number of iterations (max_iter) or scale the data as shown in:\n",
            "    https://scikit-learn.org/stable/modules/preprocessing.html\n",
            "Please also refer to the documentation for alternative solver options:\n",
            "    https://scikit-learn.org/stable/modules/linear_model.html#logistic-regression\n",
            "  n_iter_i = _check_optimize_result(\n"
          ]
        }
      ]
    },
    {
      "cell_type": "code",
      "source": [
        "from xgboost import XGBClassifier\n",
        "\n",
        "# Train XGBoost\n",
        "xgb = XGBClassifier(random_state=42)\n",
        "xgb.fit(X_train_smote, y_train_smote)\n",
        "\n",
        "# Predict on the test set\n",
        "y_pred_xgb = xgb.predict(X_test)\n",
        "\n",
        "# Evaluate performance\n",
        "print(\"Classification Report (XGBoost):\\n\", classification_report(y_test, y_pred_xgb))\n",
        "print(\"Confusion Matrix (XGBoost):\\n\", confusion_matrix(y_test, y_pred_xgb))\n"
      ],
      "metadata": {
        "colab": {
          "base_uri": "https://localhost:8080/"
        },
        "id": "WjTbKxinafOS",
        "outputId": "e84ee0fb-9723-4368-9f6e-3ca239f4bf3d"
      },
      "execution_count": 11,
      "outputs": [
        {
          "output_type": "stream",
          "name": "stdout",
          "text": [
            "Classification Report (XGBoost):\n",
            "               precision    recall  f1-score   support\n",
            "\n",
            "           0       1.00      1.00      1.00     56864\n",
            "           1       0.77      0.87      0.82        98\n",
            "\n",
            "    accuracy                           1.00     56962\n",
            "   macro avg       0.89      0.93      0.91     56962\n",
            "weighted avg       1.00      1.00      1.00     56962\n",
            "\n",
            "Confusion Matrix (XGBoost):\n",
            " [[56839    25]\n",
            " [   13    85]]\n"
          ]
        }
      ]
    },
    {
      "cell_type": "code",
      "source": [
        "!pip install --upgrade scikit-learn xgboost\n"
      ],
      "metadata": {
        "colab": {
          "base_uri": "https://localhost:8080/"
        },
        "id": "S1kUT-ipeYo2",
        "outputId": "a4658ef9-33d7-4325-9294-7a7dda4d6502"
      },
      "execution_count": 15,
      "outputs": [
        {
          "output_type": "stream",
          "name": "stdout",
          "text": [
            "Requirement already satisfied: scikit-learn in /usr/local/lib/python3.10/dist-packages (1.6.0)\n",
            "Requirement already satisfied: xgboost in /usr/local/lib/python3.10/dist-packages (2.1.3)\n",
            "Requirement already satisfied: numpy>=1.19.5 in /usr/local/lib/python3.10/dist-packages (from scikit-learn) (1.26.4)\n",
            "Requirement already satisfied: scipy>=1.6.0 in /usr/local/lib/python3.10/dist-packages (from scikit-learn) (1.13.1)\n",
            "Requirement already satisfied: joblib>=1.2.0 in /usr/local/lib/python3.10/dist-packages (from scikit-learn) (1.4.2)\n",
            "Requirement already satisfied: threadpoolctl>=3.1.0 in /usr/local/lib/python3.10/dist-packages (from scikit-learn) (3.5.0)\n",
            "Requirement already satisfied: nvidia-nccl-cu12 in /usr/local/lib/python3.10/dist-packages (from xgboost) (2.23.4)\n"
          ]
        }
      ]
    },
    {
      "cell_type": "code",
      "source": [
        "from xgboost import DMatrix, cv\n",
        "import xgboost as xgb\n",
        "\n",
        "# Prepare the DMatrix for XGBoost\n",
        "dtrain = DMatrix(X_train_smote, label=y_train_smote)\n",
        "\n",
        "# Define the parameter space\n",
        "params = {\n",
        "    'objective': 'binary:logistic',\n",
        "    'scale_pos_weight': 10,\n",
        "    'max_depth': 3,\n",
        "    'learning_rate': 0.1,\n",
        "    'eval_metric': 'auc'\n",
        "}\n",
        "\n",
        "# Perform cross-validation\n",
        "cv_results = cv(\n",
        "    params=params,\n",
        "    dtrain=dtrain,\n",
        "    num_boost_round=200,\n",
        "    nfold=3,\n",
        "    metrics='auc',\n",
        "    seed=42\n",
        ")\n",
        "\n",
        "# Print the best number of boosting rounds\n",
        "print(cv_results)\n",
        "best_num_boost_rounds = cv_results['test-auc-mean'].idxmax()\n",
        "print(\"Best number of boosting rounds:\", best_num_boost_rounds)\n"
      ],
      "metadata": {
        "colab": {
          "base_uri": "https://localhost:8080/"
        },
        "id": "9xvfCrpEeR7d",
        "outputId": "6f2cdb06-68d7-448f-d762-70f135b94ac2"
      },
      "execution_count": 16,
      "outputs": [
        {
          "output_type": "stream",
          "name": "stdout",
          "text": [
            "     train-auc-mean  train-auc-std  test-auc-mean  test-auc-std\n",
            "0          0.976208       0.000395       0.976102      0.000375\n",
            "1          0.985145       0.000628       0.985158      0.000380\n",
            "2          0.988124       0.000056       0.988061      0.000339\n",
            "3          0.990752       0.000175       0.990730      0.000229\n",
            "4          0.991710       0.000629       0.991691      0.000481\n",
            "..              ...            ...            ...           ...\n",
            "195        0.999897       0.000010       0.999882      0.000011\n",
            "196        0.999897       0.000010       0.999882      0.000011\n",
            "197        0.999898       0.000009       0.999883      0.000011\n",
            "198        0.999901       0.000008       0.999886      0.000014\n",
            "199        0.999901       0.000008       0.999887      0.000014\n",
            "\n",
            "[200 rows x 4 columns]\n",
            "Best number of boosting rounds: 199\n"
          ]
        }
      ]
    },
    {
      "cell_type": "code",
      "source": [
        "# Train the final XGBoost model\n",
        "final_xgb = xgb.train(\n",
        "    params=params,\n",
        "    dtrain=dtrain,\n",
        "    num_boost_round=best_num_boost_rounds\n",
        ")\n",
        "\n",
        "# Predict on the test set\n",
        "dtest = DMatrix(X_test)\n",
        "y_pred_prob = final_xgb.predict(dtest)\n",
        "y_pred = [1 if prob > 0.5 else 0 for prob in y_pred_prob]\n",
        "\n",
        "# Evaluate the final model\n",
        "from sklearn.metrics import classification_report, confusion_matrix, roc_curve, auc\n",
        "\n",
        "# Classification report and confusion matrix\n",
        "print(\"Classification Report:\\n\", classification_report(y_test, y_pred))\n",
        "print(\"Confusion Matrix:\\n\", confusion_matrix(y_test, y_pred))\n",
        "\n",
        "# ROC-AUC curve\n",
        "fpr, tpr, _ = roc_curve(y_test, y_pred_prob)\n",
        "roc_auc = auc(fpr, tpr)\n",
        "\n",
        "import matplotlib.pyplot as plt\n",
        "plt.figure()\n",
        "plt.plot(fpr, tpr, label=f'ROC Curve (area = {roc_auc:.2f})')\n",
        "plt.xlabel('False Positive Rate')\n",
        "plt.ylabel('True Positive Rate')\n",
        "plt.title('ROC Curve')\n",
        "plt.legend(loc=\"lower right\")\n",
        "plt.show()\n"
      ],
      "metadata": {
        "colab": {
          "base_uri": "https://localhost:8080/",
          "height": 698
        },
        "id": "3fsT_Wz4fM1w",
        "outputId": "b5edbcdc-7e33-48b5-a6e4-1e6f86059aa8"
      },
      "execution_count": 17,
      "outputs": [
        {
          "output_type": "stream",
          "name": "stdout",
          "text": [
            "Classification Report:\n",
            "               precision    recall  f1-score   support\n",
            "\n",
            "           0       1.00      0.99      0.99     56864\n",
            "           1       0.10      0.90      0.18        98\n",
            "\n",
            "    accuracy                           0.99     56962\n",
            "   macro avg       0.55      0.94      0.59     56962\n",
            "weighted avg       1.00      0.99      0.99     56962\n",
            "\n",
            "Confusion Matrix:\n",
            " [[56058   806]\n",
            " [   10    88]]\n"
          ]
        },
        {
          "output_type": "display_data",
          "data": {
            "text/plain": [
              "<Figure size 640x480 with 1 Axes>"
            ],
            "image/png": "[encoded data removed]"
          },
          "metadata": {}
        }
      ]
    },
    {
      "cell_type": "code",
      "source": [
        "# Adjust decision threshold\n",
        "threshold = 0.6  # Example threshold\n",
        "y_pred_adjusted = [1 if prob > threshold else 0 for prob in y_pred_prob]\n",
        "\n",
        "# Evaluate with adjusted threshold\n",
        "print(\"Classification Report with Adjusted Threshold:\\n\", classification_report(y_test, y_pred_adjusted))\n",
        "print(\"Confusion Matrix with Adjusted Threshold:\\n\", confusion_matrix(y_test, y_pred_adjusted))\n"
      ],
      "metadata": {
        "colab": {
          "base_uri": "https://localhost:8080/"
        },
        "id": "ooDQv7XIfjCD",
        "outputId": "fa161bfb-49a8-43a5-bf2f-b828c849654f"
      },
      "execution_count": 18,
      "outputs": [
        {
          "output_type": "stream",
          "name": "stdout",
          "text": [
            "Classification Report with Adjusted Threshold:\n",
            "               precision    recall  f1-score   support\n",
            "\n",
            "           0       1.00      0.99      0.99     56864\n",
            "           1       0.13      0.90      0.22        98\n",
            "\n",
            "    accuracy                           0.99     56962\n",
            "   macro avg       0.56      0.94      0.61     56962\n",
            "weighted avg       1.00      0.99      0.99     56962\n",
            "\n",
            "Confusion Matrix with Adjusted Threshold:\n",
            " [[56265   599]\n",
            " [   10    88]]\n"
          ]
        }
      ]
    },
    {
      "cell_type": "code",
      "source": [
        "thresholds = [0.5, 0.6, 0.65, 0.7]\n",
        "for threshold in thresholds:\n",
        "    y_pred_adjusted = [1 if prob > threshold else 0 for prob in y_pred_prob]\n",
        "    print(f\"\\nThreshold: {threshold}\")\n",
        "    print(classification_report(y_test, y_pred_adjusted))\n"
      ],
      "metadata": {
        "colab": {
          "base_uri": "https://localhost:8080/"
        },
        "id": "fIVf2v9Sfkrh",
        "outputId": "a8911caf-af07-4c86-87fa-9b81508979be"
      },
      "execution_count": 19,
      "outputs": [
        {
          "output_type": "stream",
          "name": "stdout",
          "text": [
            "\n",
            "Threshold: 0.5\n",
            "              precision    recall  f1-score   support\n",
            "\n",
            "           0       1.00      0.99      0.99     56864\n",
            "           1       0.10      0.90      0.18        98\n",
            "\n",
            "    accuracy                           0.99     56962\n",
            "   macro avg       0.55      0.94      0.59     56962\n",
            "weighted avg       1.00      0.99      0.99     56962\n",
            "\n",
            "\n",
            "Threshold: 0.6\n",
            "              precision    recall  f1-score   support\n",
            "\n",
            "           0       1.00      0.99      0.99     56864\n",
            "           1       0.13      0.90      0.22        98\n",
            "\n",
            "    accuracy                           0.99     56962\n",
            "   macro avg       0.56      0.94      0.61     56962\n",
            "weighted avg       1.00      0.99      0.99     56962\n",
            "\n",
            "\n",
            "Threshold: 0.65\n",
            "              precision    recall  f1-score   support\n",
            "\n",
            "           0       1.00      0.99      1.00     56864\n",
            "           1       0.15      0.90      0.25        98\n",
            "\n",
            "    accuracy                           0.99     56962\n",
            "   macro avg       0.57      0.94      0.62     56962\n",
            "weighted avg       1.00      0.99      0.99     56962\n",
            "\n",
            "\n",
            "Threshold: 0.7\n",
            "              precision    recall  f1-score   support\n",
            "\n",
            "           0       1.00      0.99      1.00     56864\n",
            "           1       0.17      0.90      0.29        98\n",
            "\n",
            "    accuracy                           0.99     56962\n",
            "   macro avg       0.59      0.95      0.64     56962\n",
            "weighted avg       1.00      0.99      0.99     56962\n",
            "\n"
          ]
        }
      ]
    },
    {
      "cell_type": "code",
      "source": [
        "# Set the final threshold\n",
        "final_threshold = 0.7\n",
        "y_pred_final = [1 if prob > final_threshold else 0 for prob in y_pred_prob]\n",
        "\n",
        "# Evaluate with final threshold\n",
        "from sklearn.metrics import classification_report, confusion_matrix\n",
        "\n",
        "print(\"Final Classification Report (Threshold = 0.7):\\n\", classification_report(y_test, y_pred_final))\n",
        "print(\"Final Confusion Matrix (Threshold = 0.7):\\n\", confusion_matrix(y_test, y_pred_final))\n"
      ],
      "metadata": {
        "colab": {
          "base_uri": "https://localhost:8080/"
        },
        "id": "xWfN7tnigDgB",
        "outputId": "8f3db52a-4f6f-4306-ba57-769746ac23c7"
      },
      "execution_count": 20,
      "outputs": [
        {
          "output_type": "stream",
          "name": "stdout",
          "text": [
            "Final Classification Report (Threshold = 0.7):\n",
            "               precision    recall  f1-score   support\n",
            "\n",
            "           0       1.00      0.99      1.00     56864\n",
            "           1       0.17      0.90      0.29        98\n",
            "\n",
            "    accuracy                           0.99     56962\n",
            "   macro avg       0.59      0.95      0.64     56962\n",
            "weighted avg       1.00      0.99      0.99     56962\n",
            "\n",
            "Final Confusion Matrix (Threshold = 0.7):\n",
            " [[56441   423]\n",
            " [   10    88]]\n"
          ]
        }
      ]
    },
    {
      "cell_type": "code",
      "source": [
        "from sklearn.metrics import roc_curve, auc\n",
        "import matplotlib.pyplot as plt\n",
        "\n",
        "# Compute ROC curve and AUC\n",
        "fpr, tpr, _ = roc_curve(y_test, y_pred_prob)\n",
        "roc_auc = auc(fpr, tpr)\n",
        "\n",
        "# Plot the ROC curve\n",
        "plt.figure()\n",
        "plt.plot(fpr, tpr, label=f'ROC Curve (area = {roc_auc:.2f})')\n",
        "plt.plot([0, 1], [0, 1], 'k--')  # Diagonal line\n",
        "plt.xlabel('False Positive Rate')\n",
        "plt.ylabel('True Positive Rate')\n",
        "plt.title('Receiver Operating Characteristic (ROC) Curve')\n",
        "plt.legend(loc=\"lower right\")\n",
        "plt.show()\n"
      ],
      "metadata": {
        "colab": {
          "base_uri": "https://localhost:8080/",
          "height": 472
        },
        "id": "2av5e7nBgFMe",
        "outputId": "4cb6db67-86c9-4b00-bc5c-ebfeede18b33"
      },
      "execution_count": 21,
      "outputs": [
        {
          "output_type": "display_data",
          "data": {
            "text/plain": [
              "<Figure size 640x480 with 1 Axes>"
            ],
            "image/png": "[encoded data removed]"
          },
          "metadata": {}
        }
      ]
    },
    {
      "cell_type": "code",
      "source": [
        "from sklearn.metrics import precision_recall_curve\n",
        "\n",
        "# Compute precision-recall curve\n",
        "precision, recall, thresholds_pr = precision_recall_curve(y_test, y_pred_prob)\n",
        "\n",
        "# Plot the Precision-Recall Curve\n",
        "plt.figure()\n",
        "plt.plot(recall, precision, label='Precision-Recall Curve')\n",
        "plt.xlabel('Recall')\n",
        "plt.ylabel('Precision')\n",
        "plt.title('Precision-Recall Curve')\n",
        "plt.legend(loc=\"lower left\")\n",
        "plt.show()\n"
      ],
      "metadata": {
        "colab": {
          "base_uri": "https://localhost:8080/",
          "height": 472
        },
        "id": "3Xa2DTPIgJbL",
        "outputId": "41e65909-93c2-413a-9bdb-c502fe9817d9"
      },
      "execution_count": 22,
      "outputs": [
        {
          "output_type": "display_data",
          "data": {
            "text/plain": [
              "<Figure size 640x480 with 1 Axes>"
            ],
            "image/png": "[encoded data removed]"
          },
          "metadata": {}
        }
      ]
    },
    {
      "cell_type": "code",
      "source": [
        "import shap\n",
        "\n",
        "# Initialize SHAP explainer\n",
        "explainer = shap.TreeExplainer(final_xgb)\n",
        "shap_values = explainer.shap_values(DMatrix(X_test))\n",
        "\n",
        "# Plot feature importance summary\n",
        "shap.summary_plot(shap_values, X_test, plot_type=\"bar\")\n",
        "\n",
        "# Visualize SHAP values for a specific prediction\n",
        "shap.force_plot(explainer.expected_value, shap_values[0], X_test.iloc[0])\n"
      ],
      "metadata": {
        "colab": {
          "base_uri": "https://localhost:8080/",
          "height": 1000
        },
        "id": "zoiusaUggMgC",
        "outputId": "6c28be8e-bf1c-47b0-ca14-90cce0f9fcfa"
      },
      "execution_count": 23,
      "outputs": [
        {
          "output_type": "display_data",
          "data": {
            "text/plain": [
              "<Figure size 800x950 with 1 Axes>"
            ],
            "image/png": "[encoded data removed]"
          },
          "metadata": {}
        },
        {
          "output_type": "execute_result",
          "data": {
            "text/plain": [
              "<shap.plots._force.AdditiveForceVisualizer at 0x78547751ee00>"
            ],
            "text/html": [
              "\n",
              "<div id='iA3DU07L4BBGVQ06D3C0W'>\n",
              "<div style='color: #900; text-align: center;'>\n",
              "  <b>Visualization omitted, Javascript library not loaded!</b><br>\n",
              "  Have you run `initjs()` in this notebook? If this notebook was from another\n",
              "  user you must also trust this notebook (File -> Trust notebook). If you are viewing\n",
              "  this notebook on github the Javascript has been stripped for security. If you are using\n",
              "  JupyterLab this error is because a JupyterLab extension has not yet been written.\n",
              "</div></div>\n",
              " <script>\n",
              "   if (window.SHAP) SHAP.ReactDom.render(\n",
              "    SHAP.React.createElement(SHAP.AdditiveForceVisualizer, {\"outNames\": [\"f(x)\"], \"baseValue\": 2.770905017852783, \"outValue\": -5.462028980255127, \"link\": \"identity\", \"featureNames\": [\"Time\", \"V1\", \"V2\", \"V3\", \"V4\", \"V5\", \"V6\", \"V7\", \"V8\", \"V9\", \"V10\", \"V11\", \"V12\", \"V13\", \"V14\", \"V15\", \"V16\", \"V17\", \"V18\", \"V19\", \"V20\", \"V21\", \"V22\", \"V23\", \"V24\", \"V25\", \"V26\", \"V27\", \"V28\", \"Amount\"], \"features\": {\"0\": {\"effect\": -0.24503302574157715, \"value\": 160760.0}, \"1\": {\"effect\": 0.15140849351882935, \"value\": -0.674466064578314}, \"2\": {\"effect\": -0.32348912954330444, \"value\": 1.40810501967799}, \"3\": {\"effect\": 0.11572446674108505, \"value\": -1.11062205357093}, \"4\": {\"effect\": -4.523781776428223, \"value\": -1.32836577843066}, \"5\": {\"effect\": 0.10794355720281601, \"value\": 1.38899603254837}, \"6\": {\"effect\": -0.2370203584432602, \"value\": -1.30843906707795}, \"7\": {\"effect\": -0.15831685066223145, \"value\": 1.88587890268717}, \"8\": {\"effect\": 0.6313881278038025, \"value\": -0.614232966299775}, \"9\": {\"effect\": -0.039882831275463104, \"value\": 0.311652212453101}, \"10\": {\"effect\": -0.4826892018318176, \"value\": 0.65075700363522}, \"11\": {\"effect\": -0.39850232005119324, \"value\": -0.857784661547805}, \"12\": {\"effect\": 0.07141509652137756, \"value\": -0.229961445775592}, \"13\": {\"effect\": 0.09577751159667969, \"value\": -0.19981700479103}, \"14\": {\"effect\": -2.106809377670288, \"value\": 0.266371326329879}, \"15\": {\"effect\": 0.10905662178993225, \"value\": -0.0465441684754424}, \"16\": {\"effect\": 0.19217559695243835, \"value\": -0.741398089749789}, \"17\": {\"effect\": -0.18991394340991974, \"value\": -0.605616644106022}, \"18\": {\"effect\": -0.19806984066963196, \"value\": -0.39256818789208}, \"19\": {\"effect\": -0.18865258991718292, \"value\": -0.162648311024695}, \"20\": {\"effect\": -0.12465101480484009, \"value\": 0.394321820843914}, \"21\": {\"effect\": 0.005732071120291948, \"value\": 0.0800842396026648}, \"22\": {\"effect\": 0.06691090017557144, \"value\": 0.810033595602455}, \"23\": {\"effect\": -0.04977048933506012, \"value\": -0.224327230436412}, \"24\": {\"effect\": -0.12182149291038513, \"value\": 0.707899237446867}, \"25\": {\"effect\": 0.0208448376506567, \"value\": -0.13583702273753}, \"26\": {\"effect\": -0.05686581879854202, \"value\": 0.0451021964988772}, \"27\": {\"effect\": -0.17392517626285553, \"value\": 0.533837219064273}, \"28\": {\"effect\": -0.0056180646643042564, \"value\": 0.291319252625364}, \"29\": {\"effect\": -0.1764986664056778, \"value\": -0.2612734105062506}}, \"plot_cmap\": \"RdBu\", \"labelMargin\": 20}),\n",
              "    document.getElementById('iA3DU07L4BBGVQ06D3C0W')\n",
              "  );\n",
              "</script>"
            ]
          },
          "metadata": {},
          "execution_count": 23
        }
      ]
    }
  ]
}